{
 "cells": [
  {
   "cell_type": "code",
   "execution_count": null,
   "metadata": {},
   "outputs": [],
   "source": [
    "import scipy.io\n",
    "from skfeature.function.similarity_based import lap_score\n",
    "from skfeature.utility import construct_W\n",
    "from skfeature.utility import unsupervised_evaluation\n",
    "import pandas as pd\n",
    "import numpy as np\n",
    "from sklearn.metrics import jaccard_similarity_score\n",
    "import matplotlib.pyplot as plt"
   ]
  },
  {
   "cell_type": "code",
   "execution_count": 73,
   "metadata": {},
   "outputs": [],
   "source": [
    "def laplacianscore(x = \"/home/renato/Proyectos/Proyecto1/ejex.csv\", \n",
    "                   y = \"/home/renato/Proyectos/Proyecto1/ejey.csv\",k=5,t=1, nf = 100, nc = 20):\n",
    "\n",
    "    # --- PARA LEER LOS CSV EN EJE X & Y\n",
    "    X = pd.read_csv(x)\n",
    "    y = pd.read_csv(y)\n",
    "    X = X.values\n",
    "    y = y.values[:, 0]\n",
    "    y = y.astype(int)\n",
    "    \n",
    "    # construct affinity matrix\n",
    "    kwargs_W = {\"metric\": \"euclidean\", \"neighbor_mode\": \"knn\", \"weight_mode\": \"heat_kernel\", \"k\": k, 't': t}\n",
    "    W = construct_W.construct_W(X, **kwargs_W)\n",
    "\n",
    "\n",
    "    \"\"\" obtiene los puntajes de las caracteristicas obtain the scores of featurs \"\"\"\n",
    "    score = lap_score.lap_score(X, W=W)\n",
    "    \n",
    "    # sort the feature scores in an ascending order according to the feature scores\n",
    "    idx = lap_score.feature_ranking(score)\n",
    "    \n",
    "    # perform evaluation on clustering task\n",
    "    num_fea = nf    # number of selected features\n",
    "    num_cluster = nc    # number of clusters, it is usually set as the number of classes in the ground truth\n",
    "\n",
    "    # obtain the dataset on the selected features\n",
    "    selected_features = X[:, idx[0:num_fea]]\n",
    "    \n",
    "    # perform kmeans clustering based on the selected features and repeats 20 times\n",
    "    nmi_total = 0\n",
    "    acc_total = 0\n",
    "    for i in range(0, 20):\n",
    "        nmi, acc = unsupervised_evaluation.evaluation(X_selected=selected_features, n_clusters=num_cluster, y=y)\n",
    "        nmi_total += nmi\n",
    "        acc_total += acc\n",
    "      \n",
    "    # output the average NMI and average ACC\n",
    "    NMI = float(nmi_total)/20 \n",
    "    ACC = float(acc_total)/20\n",
    "    \n",
    "    \n",
    "    return ACC"
   ]
  },
  {
   "cell_type": "code",
   "execution_count": 74,
   "metadata": {},
   "outputs": [
    {
     "data": {
      "text/plain": [
       "0.5630298818624044"
      ]
     },
     "execution_count": 74,
     "metadata": {},
     "output_type": "execute_result"
    }
   ],
   "source": [
    "fun = laplacianscore()\n",
    "fun"
   ]
  },
  {
   "cell_type": "code",
   "execution_count": null,
   "metadata": {},
   "outputs": [],
   "source": []
  },
  {
   "cell_type": "code",
   "execution_count": 78,
   "metadata": {},
   "outputs": [
    {
     "name": "stdout",
     "output_type": "stream",
     "text": [
      "[0.4833333333333332]\n",
      "[0.4833333333333332, 0.6475000000000002]\n",
      "[0.4833333333333332, 0.6475000000000002, 0.6466666666666667]\n",
      "[0.4833333333333332, 0.6475000000000002, 0.6466666666666667, 0.7266666666666668]\n",
      "[0.4833333333333332, 0.6475000000000002, 0.6466666666666667, 0.7266666666666668, 0.8166666666666667]\n",
      "[0.4833333333333332, 0.6475000000000002, 0.6466666666666667, 0.7266666666666668, 0.8166666666666667, 0.8166666666666667]\n",
      "[0.4833333333333332, 0.6475000000000002, 0.6466666666666667, 0.7266666666666668, 0.8166666666666667, 0.8166666666666667, 0.7675]\n",
      "[0.4833333333333332, 0.6475000000000002, 0.6466666666666667, 0.7266666666666668, 0.8166666666666667, 0.8166666666666667, 0.7675, 0.7141666666666666]\n"
     ]
    },
    {
     "data": {
      "text/plain": [
       "<function matplotlib.pyplot.show>"
      ]
     },
     "execution_count": 78,
     "metadata": {},
     "output_type": "execute_result"
    },
    {
     "data": {
      "image/png": "[encoded data removed]",
      "text/plain": [
       "<Figure size 432x288 with 1 Axes>"
      ]
     },
     "metadata": {},
     "output_type": "display_data"
    }
   ],
   "source": [
    "fun = []\n",
    "for i in range(2,17,2):\n",
    "    p = laplacianscore(x = \"/home/renato/Proyectos/Proyecto1/virusesx.csv\", y = \"/home/renato/Proyectos/Proyecto1/virusesy.csv\",\n",
    "              nc = 4, nf = i)\n",
    "    fun.append(p)\n",
    "    print fun\n",
    "    \n",
    "plt.plot(fun)\n",
    "plt.show"
   ]
  },
  {
   "cell_type": "code",
   "execution_count": 79,
   "metadata": {},
   "outputs": [
    {
     "name": "stdout",
     "output_type": "stream",
     "text": [
      "[0.6381944444444445]\n",
      "[0.6381944444444445, 0.6541666666666668]\n",
      "[0.6381944444444445, 0.6541666666666668, 0.6625000000000001]\n",
      "[0.6381944444444445, 0.6541666666666668, 0.6625000000000001, 0.7152777777777779]\n",
      "[0.6381944444444445, 0.6541666666666668, 0.6625000000000001, 0.7152777777777779, 0.7208333333333333]\n",
      "[0.6381944444444445, 0.6541666666666668, 0.6625000000000001, 0.7152777777777779, 0.7208333333333333, 0.7180555555555557]\n",
      "[0.6381944444444445, 0.6541666666666668, 0.6625000000000001, 0.7152777777777779, 0.7208333333333333, 0.7180555555555557, 0.6847222222222222]\n",
      "[0.6381944444444445, 0.6541666666666668, 0.6625000000000001, 0.7152777777777779, 0.7208333333333333, 0.7180555555555557, 0.6847222222222222, 0.7006944444444446]\n",
      "[0.6381944444444445, 0.6541666666666668, 0.6625000000000001, 0.7152777777777779, 0.7208333333333333, 0.7180555555555557, 0.6847222222222222, 0.7006944444444446, 0.6833333333333333]\n",
      "[0.6381944444444445, 0.6541666666666668, 0.6625000000000001, 0.7152777777777779, 0.7208333333333333, 0.7180555555555557, 0.6847222222222222, 0.7006944444444446, 0.6833333333333333, 0.7097222222222223]\n"
     ]
    },
    {
     "data": {
      "text/plain": [
       "<function matplotlib.pyplot.show>"
      ]
     },
     "execution_count": 79,
     "metadata": {},
     "output_type": "execute_result"
    },
    {
     "data": {
      "image/png": "[encoded data removed]",
      "text/plain": [
       "<Figure size 432x288 with 1 Axes>"
      ]
     },
     "metadata": {},
     "output_type": "display_data"
    }
   ],
   "source": [
    "fun = []\n",
    "for i in range(100,5000,500):\n",
    "    p = laplacianscore(x = \"/home/renato/Proyectos/Proyecto1/mll_x.csv\", y = \"/home/renato/Proyectos/Proyecto1/mll_y.csv\",\n",
    "              nc = 3, nf = i)\n",
    "    fun.append(p)\n",
    "    print fun\n",
    "\n",
    "plt.plot(fun)\n",
    "plt.show"
   ]
  },
  {
   "cell_type": "code",
   "execution_count": null,
   "metadata": {},
   "outputs": [],
   "source": []
  }
 ],
 "metadata": {
  "kernelspec": {
   "display_name": "Python 2",
   "language": "python",
   "name": "python2"
  },
  "language_info": {
   "codemirror_mode": {
    "name": "ipython",
    "version": 2
   },
   "file_extension": ".py",
   "mimetype": "text/x-python",
   "name": "python",
   "nbconvert_exporter": "python",
   "pygments_lexer": "ipython2",
   "version": "2.7.12"
  }
 },
 "nbformat": 4,
 "nbformat_minor": 2
}
